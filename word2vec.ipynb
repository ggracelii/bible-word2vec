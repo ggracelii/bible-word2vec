{
 "cells": [
  {
   "cell_type": "code",
   "execution_count": 1,
   "metadata": {
    "colab": {
     "base_uri": "https://localhost:8080/"
    },
    "id": "RZ_2WgVZvgW8",
    "outputId": "62e8fa68-e89a-4404-af5e-341f56573da9"
   },
   "outputs": [
    {
     "name": "stdout",
     "output_type": "stream",
     "text": [
      "Drive already mounted at /content/drive; to attempt to forcibly remount, call drive.mount(\"/content/drive\", force_remount=True).\n"
     ]
    },
    {
     "name": "stderr",
     "output_type": "stream",
     "text": [
      "[nltk_data] Downloading package punkt_tab to /root/nltk_data...\n",
      "[nltk_data]   Package punkt_tab is already up-to-date!\n",
      "[nltk_data] Downloading package inaugural to /root/nltk_data...\n",
      "[nltk_data]   Package inaugural is already up-to-date!\n",
      "[nltk_data] Downloading package gutenberg to /root/nltk_data...\n",
      "[nltk_data]   Package gutenberg is already up-to-date!\n"
     ]
    },
    {
     "data": {
      "text/plain": [
       "True"
      ]
     },
     "execution_count": 1,
     "metadata": {},
     "output_type": "execute_result"
    }
   ],
   "source": [
    "# import stuff and download stuff\n",
    "from google.colab import drive\n",
    "drive.mount('/content/drive')\n",
    "from gensim import models\n",
    "from gensim.models import KeyedVectors\n",
    "import nltk.corpus\n",
    "nltk.download('punkt_tab')\n",
    "nltk.download('inaugural')\n",
    "nltk.download('gutenberg')"
   ]
  },
  {
   "cell_type": "code",
   "execution_count": 2,
   "metadata": {
    "id": "xFmin30zHUXW"
   },
   "outputs": [],
   "source": [
    "# get Bible text\n",
    "text = nltk.corpus.gutenberg.raw(nltk.corpus.gutenberg.fileids()[3])"
   ]
  },
  {
   "cell_type": "code",
   "execution_count": 3,
   "metadata": {
    "colab": {
     "base_uri": "https://localhost:8080/"
    },
    "id": "InBr0fRhv7rH",
    "outputId": "860d9383-6fc9-49a7-c28d-d5679c5bb33e"
   },
   "outputs": [
    {
     "name": "stderr",
     "output_type": "stream",
     "text": [
      "[nltk_data] Downloading package stopwords to /root/nltk_data...\n",
      "[nltk_data]   Package stopwords is already up-to-date!\n"
     ]
    }
   ],
   "source": [
    "from nltk.corpus import stopwords\n",
    "nltk.download('stopwords')\n",
    "stop_words = set(stopwords.words('english'))\n",
    "\n",
    "import string\n",
    "from nltk.tokenize import sent_tokenize, word_tokenize\n",
    "\n",
    "# split text into phrases\n",
    "def get_phrases(text):\n",
    "    words = nltk.tokenize.word_tokenize(text)\n",
    "    phrases = {}\n",
    "    current_phrase = []\n",
    "    for word in words:\n",
    "        if (word in stop_words or word in string.punctuation):\n",
    "            if (len(current_phrase) > 1):\n",
    "                phrases[\" \".join(current_phrase)] = \"_\".join(current_phrase)\n",
    "                current_phrase = []\n",
    "        else:\n",
    "            current_phrase.append(word)\n",
    "\n",
    "    if (len(current_phrase) > 1):\n",
    "        phrases[\" \".join(current_phrase)] = \"_\".join(current_phrase)\n",
    "    return phrases\n",
    "\n",
    "# replae phrases with vocab\n",
    "def replace_phrases(phrases_dict, text):\n",
    "    for phrase in phrases_dict.keys():\n",
    "        text = text.replace(phrase, phrases_dict[phrase])\n",
    "    return text"
   ]
  },
  {
   "cell_type": "code",
   "execution_count": 4,
   "metadata": {
    "id": "PgeSqWSjPHHS"
   },
   "outputs": [],
   "source": [
    "# clean + tokenize data\n",
    "import regex as re\n",
    "\n",
    "text = re.sub(r'\\d+', '', text)\n",
    "phrases = get_phrases(text)\n",
    "text = replace_phrases(phrases, text)\n",
    "sentences = sent_tokenize(text)\n",
    "words = [word_tokenize(sentence.lower()) for sentence in sentences]\n",
    "model = models.Word2Vec(words, min_count=1)"
   ]
  },
  {
   "cell_type": "code",
   "execution_count": 5,
   "metadata": {
    "colab": {
     "base_uri": "https://localhost:8080/"
    },
    "id": "or05KGIiAQKe",
    "outputId": "7335262a-9a9f-48b0-9fd7-1db18666c83f"
   },
   "outputs": [
    {
     "name": "stderr",
     "output_type": "stream",
     "text": [
      "WARNING:gensim.models.word2vec:Effective 'alpha' higher than previous training cycles\n"
     ]
    }
   ],
   "source": [
    "model.train(words, total_examples=model.corpus_count, epochs=400)\n",
    "model.save(\"/content/drive/MyDrive/Year 1/Fall Semester/4 Computing in Linguistics/Projects/word2vec_model.model\")"
   ]
  },
  {
   "cell_type": "code",
   "execution_count": 6,
   "metadata": {
    "colab": {
     "base_uri": "https://localhost:8080/"
    },
    "id": "SJ1zKH69wDLI",
    "outputId": "5fa631c8-1076-44cf-eb79-4b8e4a0a97fb"
   },
   "outputs": [
    {
     "name": "stdout",
     "output_type": "stream",
     "text": [
      "0.04973474801061008\n"
     ]
    }
   ],
   "source": [
    "question_words = \"/content/drive/MyDrive/Year 1/Fall Semester/4 Computing in Linguistics/Projects/question_words.txt\"\n",
    "score, sections = model.wv.evaluate_word_analogies(question_words)\n",
    "print(score)\n",
    "# print(sections[-1])\n",
    "# not very accurate! makes sense as the Bible does not cover a lot of English vocab, so it is bad at general analogies"
   ]
  },
  {
   "cell_type": "code",
   "execution_count": 7,
   "metadata": {
    "id": "OB24lC4ZwLdf"
   },
   "outputs": [],
   "source": [
    "google_model = KeyedVectors.load_word2vec_format(\"/content/drive/MyDrive/Year 1/Fall Semester/4 Computing in Linguistics/Projects/GoogleNews-vectors-negative300.bin.gz\", binary=True, limit=20000)"
   ]
  },
  {
   "cell_type": "code",
   "execution_count": 8,
   "metadata": {
    "colab": {
     "base_uri": "https://localhost:8080/"
    },
    "id": "YHivf8K96xmH",
    "outputId": "ac258152-8d08-4e92-a733-b495aaf134f0"
   },
   "outputs": [
    {
     "name": "stdout",
     "output_type": "stream",
     "text": [
      "man \n",
      "    Model:\n",
      "\t [('woman', 0.5005379915237427), ('he', 0.45827215909957886), ('prophet', 0.4581497013568878), ('a_man', 0.4545409679412842), ('man_shall', 0.4482245445251465), ('thing', 0.44818395376205444), ('him', 0.43323591351509094), ('murderer', 0.41519659757614136), ('truth_i_perceive', 0.41234090924263), ('man_also', 0.411765992641449)] \n",
      "    Google:\n",
      "\t [('woman', 0.7664012908935547), ('boy', 0.6824871301651001), ('teenager', 0.6586930155754089), ('girl', 0.5921714305877686), ('robber', 0.5585119128227234), ('men', 0.5489763021469116), ('guy', 0.5420035123825073), ('person', 0.5342026352882385), ('gentleman', 0.5337990522384644), ('Man', 0.5316051244735718)] \n",
      "\n",
      "woman \n",
      "    Model:\n",
      "\t [('child', 0.5246297121047974), ('man', 0.5005380511283875), ('maid', 0.47472789883613586), ('she', 0.45932668447494507), ('kid', 0.4375181794166565), ('herself', 0.4315888285636902), ('fetched_thence', 0.4273068904876709), ('husband', 0.4155438542366028), ('man_child', 0.40369293093681335), ('girdle', 0.3991878032684326)] \n",
      "    Google:\n",
      "\t [('man', 0.7664012908935547), ('girl', 0.7494640946388245), ('teenager', 0.6317085027694702), ('lady', 0.6288785934448242), ('mother', 0.6076306104660034), ('boy', 0.5975907444953918), ('Woman', 0.5770983099937439), ('she', 0.5641393661499023), ('person', 0.5470173358917236), ('victim', 0.545007586479187)] \n",
      "\n",
      "father \n",
      "    Model:\n",
      "\t [('brother', 0.6530178785324097), ('servant', 0.6102955937385559), ('mother', 0.5963611006736755), ('master', 0.595312237739563), ('son', 0.5888012051582336), ('sister', 0.5181332230567932), ('wife', 0.5171618461608887), ('servants', 0.5056935548782349), ('daughter', 0.5053882002830505), ('brother_benjamin', 0.46951574087142944)] \n",
      "    Google:\n",
      "\t [('son', 0.8933085799217224), ('uncle', 0.8542662262916565), ('brother', 0.8240807056427002), ('grandfather', 0.8048632740974426), ('dad', 0.8040656447410583), ('mother', 0.7901482582092285), ('nephew', 0.7880791425704956), ('stepfather', 0.7810977697372437), ('grandson', 0.7620671987533569), ('younger_brother', 0.7433549761772156)] \n",
      "\n",
      "mother \n",
      "    Model:\n",
      "\t [('father', 0.5963610410690308), ('wife', 0.5885918736457825), ('a_fool_despiseth', 0.5553191900253296), ('concubine', 0.5334286689758301), ('daughter', 0.5056451559066772), ('brother', 0.5021639466285706), ('husband', 0.49982893466949463), ('mahlon', 0.49512872099876404), ('brother_philip', 0.48139747977256775), ('master', 0.4754892587661743)] \n",
      "    Google:\n",
      "\t [('daughter', 0.8706234097480774), ('grandmother', 0.8442240953445435), ('aunt', 0.843592643737793), ('niece', 0.807008683681488), ('father', 0.7901482582092285), ('son', 0.7683205604553223), ('sister', 0.7633354067802429), ('wife', 0.7550681233406067), ('granddaughter', 0.7470966577529907), ('daughters', 0.7415745854377747)] \n",
      "\n",
      "life \n",
      "    Model:\n",
      "\t [('hope', 0.4606332778930664), ('body', 0.45012399554252625), ('soul', 0.44523751735687256), ('righteousness', 0.44345441460609436), ('wisdom', 0.4360218644142151), ('father', 0.42833855748176575), ('sins', 0.42505186796188354), ('lips', 0.42026737332344055), ('heart', 0.41408732533454895), ('bread', 0.41247591376304626)] \n",
      "    Google:\n",
      "\t [('lives', 0.6027060747146606), ('Life', 0.4814741611480713), ('lifestyle', 0.44911324977874756), ('lifetime', 0.42942190170288086), ('living', 0.4151720702648163), ('family', 0.41159164905548096), ('everyday', 0.40794867277145386), ('humanity', 0.40773284435272217), ('childhood', 0.4068482518196106), ('society', 0.4066685140132904)] \n",
      "\n",
      "faith \n",
      "    Model:\n",
      "\t [('grace', 0.5753224492073059), ('hope', 0.5595940947532654), ('christ', 0.5510252714157104), ('spirit', 0.5358860492706299), ('jesus_christ', 0.5044660568237305), ('gospel', 0.4900994598865509), ('knowledge', 0.48605406284332275), ('righteousness', 0.48185086250305176), ('christ_jesus', 0.4805816411972046), ('god', 0.4772600829601288)] \n",
      "    Google:\n",
      "\t [('belief', 0.5861861109733582), ('religion', 0.5386272072792053), ('beliefs', 0.5308504104614258), ('Faith', 0.5034388303756714), ('compassion', 0.5025370121002197), ('devotion', 0.496684193611145), ('teachings', 0.49350565671920776), ('believers', 0.4822404980659485), ('Christianity', 0.47819051146507263), ('God', 0.4745253622531891)] \n",
      "\n",
      "fruit \n",
      "    Model:\n",
      "\t [('iniquity', 0.4455779194831848), ('vine', 0.44310399889945984), ('sin', 0.424631267786026), ('fruit_thereof', 0.4091559052467346), ('first_rain', 0.40844717621803284), ('meat', 0.4078414738178253), ('green_figs', 0.40191659331321716), ('reward', 0.4009034037590027), ('labour', 0.38557085394859314), ('sour', 0.38007327914237976)] \n",
      "    Google:\n",
      "\t [('fruits', 0.7737189531326294), ('grapes', 0.6511257290840149), ('apple', 0.6410146951675415), ('apples', 0.6161550283432007), ('vegetables', 0.5988263487815857), ('tomato', 0.5986580848693848), ('tomatoes', 0.5773346424102783), ('vegetable', 0.5614408254623413), ('juice', 0.5379753708839417), ('banana', 0.5222060084342957)] \n",
      "\n"
     ]
    }
   ],
   "source": [
    "words = [\"man\", \"woman\", \"father\", \"mother\", \"life\", \"faith\", \"fruit\"]\n",
    "\n",
    "for word in words:\n",
    "  model_similar_words = model.wv.most_similar(word, topn=10)\n",
    "  google_similar_words = google_model.most_similar(word, topn=10)\n",
    "  print(word,\"\\n    Model:\\n\\t\", model_similar_words, \"\\n    Google:\\n\\t\", google_similar_words, \"\\n\")"
   ]
  },
  {
   "cell_type": "code",
   "execution_count": 9,
   "metadata": {
    "colab": {
     "base_uri": "https://localhost:8080/"
    },
    "id": "OO_cAYWvAcIl",
    "outputId": "9f2e753d-86d8-4e64-d73b-62ef84fb27ad"
   },
   "outputs": [
    {
     "name": "stdout",
     "output_type": "stream",
     "text": [
      "Positive: man   Negative: woman \n",
      "    Model:\n",
      "\t [('man_speaking', 0.4276359975337982), ('man_deceive', 0.406723290681839), ('private', 0.3974769413471222), ('work_therein', 0.3845498561859131), ('god_accepteth', 0.3683933615684509), ('doubt', 0.3655301332473755), ('man_think', 0.36264100670814514), ('wherefore_i_give', 0.357055127620697), ('more', 0.3472147285938263), ('evil_shall_come_upon', 0.3449440002441406)] \n",
      "    Google:\n",
      "\t [('guy', 0.324423611164093), ('Man', 0.2959253191947937), ('Uncle', 0.29345017671585083), ('beard', 0.2869175970554352), ('mastermind', 0.27936387062072754), ('buddy', 0.27635231614112854), ('younger_brother', 0.2746973931789398), ('guys', 0.2735731899738312), ('genius', 0.27022987604141235), ('lad', 0.2643877863883972)] \n",
      "\n",
      "Positive: woman   Negative: man \n",
      "    Model:\n",
      "\t [('yellow_gold', 0.4434618353843689), ('weavest', 0.4376771152019501), ('god_doth_talk', 0.40756234526634216), ('twofold', 0.4067041277885437), ('servant_took_rebekah', 0.4044879376888275), ('hath_walked', 0.40324464440345764), ('lord_god_said', 0.4010079503059387), ('wounding', 0.3896264433860779), ('captives', 0.38603755831718445), ('drew_near_unto_david', 0.3833838999271393)] \n",
      "    Google:\n",
      "\t [('she', 0.45412716269493103), ('her', 0.39712801575660706), ('Ms.', 0.37514764070510864), ('mothers', 0.3664904534816742), ('herself', 0.36581429839134216), ('Women', 0.3656345307826996), ('chairwoman', 0.3590218722820282), ('hers', 0.3549395799636841), ('women', 0.35415640473365784), ('female', 0.3537484407424927)] \n",
      "\n",
      "Positive: father   Negative: mother \n",
      "    Model:\n",
      "\t [('god', 0.4608077108860016), ('lord', 0.4286586046218872), ('you', 0.3968455493450165), ('the_beams', 0.3937860131263733), ('thoughts', 0.3937661945819855), ('gospel', 0.37996160984039307), ('rejoicing', 0.3594140410423279), ('fathers', 0.3583715260028839), ('light_affliction', 0.35054588317871094), ('works', 0.3500828742980957)] \n",
      "    Google:\n",
      "\t [('legendary', 0.39067164063453674), ('younger_brother', 0.3542426526546478), ('Jr.', 0.33605197072029114), ('former', 0.3321796953678131), ('Uncle', 0.319667249917984), ('Sir', 0.3166523575782776), ('Sr.', 0.3107385039329529), ('brother', 0.3036108613014221), ('grandfather', 0.30307117104530334), ('uncle', 0.28958263993263245)] \n",
      "\n",
      "Positive: mother   Negative: father \n",
      "    Model:\n",
      "\t [('put_fire', 0.387270987033844), ('i_came_near_unto_one', 0.3633069396018982), ('received_sight', 0.35673391819000244), ('god_would_speak', 0.35584670305252075), ('slaying', 0.34757477045059204), ('laid_incense_thereon', 0.3463655412197113), ('but_oh', 0.341609388589859), ('rachel_came', 0.34136322140693665), ('went_away', 0.34076082706451416), ('elisha_said', 0.33958518505096436)] \n",
      "    Google:\n",
      "\t [('nurse', 0.37202170491218567), ('woman', 0.3555244207382202), ('Marie', 0.35306739807128906), ('she', 0.3423413932323456), ('Ann', 0.3405244052410126), ('spokeswoman', 0.3310665488243103), ('mothers', 0.3267975449562073), ('hers', 0.3199537992477417), ('girl', 0.31989261507987976), ('Renee', 0.3189801871776581)] \n",
      "\n",
      "Positive: life   Negative: faith \n",
      "    Model:\n",
      "\t [('inwardly', 0.3598889410495758), ('ephraim_shall_return', 0.3574986159801483), ('poor_man', 0.34460216760635376), ('farm', 0.34339725971221924), ('beam', 0.34193524718284607), ('it_shall_come', 0.3356236219406128), ('mandrakes', 0.33457913994789124), ('earth_divided', 0.3307008147239685), ('tongue_shall_slay', 0.3300565183162689), ('tooth', 0.3262093961238861)] \n",
      "    Google:\n",
      "\t [('lives', 0.3165382444858551), ('Life', 0.2868839502334595), ('living', 0.2761048972606659), ('dying', 0.2522630989551544), ('death', 0.24986080825328827), ('lifetime', 0.24292433261871338), ('career', 0.24277035892009735), ('glamorous', 0.24028469622135162), ('lifestyle', 0.23795562982559204), ('baby', 0.23727907240390778)] \n",
      "\n"
     ]
    }
   ],
   "source": [
    "words = [[\"man\", \"woman\"], [\"woman\", \"man\"], [\"father\", \"mother\"], [\"mother\", \"father\"], [\"life\", \"faith\"]]\n",
    "\n",
    "for pair in words:\n",
    "  model_similar_words = model.wv.most_similar(positive=pair[0], negative=pair[1], topn=10)\n",
    "  google_similar_words = google_model.most_similar(positive=pair[0], negative=pair[1], topn=10)\n",
    "  print(\"Positive:\", pair[0], \"  Negative:\", pair[1], \"\\n    Model:\\n\\t\", model_similar_words, \"\\n    Google:\\n\\t\", google_similar_words, \"\\n\")"
   ]
  }
 ],
 "metadata": {
  "colab": {
   "provenance": []
  },
  "kernelspec": {
   "display_name": "Python 3 (ipykernel)",
   "language": "python",
   "name": "python3"
  },
  "language_info": {
   "codemirror_mode": {
    "name": "ipython",
    "version": 3
   },
   "file_extension": ".py",
   "mimetype": "text/x-python",
   "name": "python",
   "nbconvert_exporter": "python",
   "pygments_lexer": "ipython3",
   "version": "3.12.4"
  }
 },
 "nbformat": 4,
 "nbformat_minor": 4
}
